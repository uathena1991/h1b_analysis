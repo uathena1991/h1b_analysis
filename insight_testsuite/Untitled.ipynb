{
 "cells": [
  {
   "cell_type": "code",
   "execution_count": 20,
   "metadata": {},
   "outputs": [],
   "source": [
    "import os\n",
    "import numpy as np\n",
    "def txt_writer(data, filename, path, headers):\n",
    "    \"\"\"\n",
    "    write data to a file, return True if succeed, else False.\n",
    "    \"\"\"\n",
    "    try:\n",
    "        with open(os.path.join(path, filename), 'w') as file:\n",
    "            ## write headers\n",
    "            for hh in headers[:-1]:\n",
    "                file.write(hh)\n",
    "                file.write(';')\n",
    "            file.write(headers[-1])\n",
    "            file.write('\\n')\n",
    "            ## write data\n",
    "            for row in data:\n",
    "                for xx in row[:-1]:\n",
    "                    file.write(xx)\n",
    "                    file.write(';')\n",
    "                file.write(row[-1])\n",
    "                file.write('\\n')\n",
    "        file.close()\n",
    "    except ValueError:\n",
    "        print(\"ERROR\")\n",
    "        return False\n",
    "    return True\n",
    "\n"
   ]
  },
  {
   "cell_type": "code",
   "execution_count": 25,
   "metadata": {},
   "outputs": [
    {
     "name": "stdout",
     "output_type": "stream",
     "text": [
      "Filename: H1B_FY_2014.csv\n",
      "Number of all cases: 519504\n",
      "Number of correct format cases: 9966 \n",
      "Number of problematic cases: 509538\n",
      "Filename: H1B_FY_2015.csv\n",
      "Number of all cases: 618804\n",
      "Number of correct format cases: 9970 \n",
      "Number of problematic cases: 608834\n",
      "Filename: H1B_FY_2016.csv\n",
      "Number of all cases: 647852\n",
      "Number of correct format cases: 9945 \n",
      "Number of problematic cases: 637907\n",
      "Filename: H1B_FY_2017.csv\n",
      "Number of all cases: 624650\n",
      "Number of correct format cases: 9948 \n",
      "Number of problematic cases: 614702\n"
     ]
    }
   ],
   "source": [
    "path = \"/Volumes/Data/GitHub/insight_dataset/dataset\"\n",
    "out_path = [\"/Volumes/Data/GitHub/h1b_analysis/insight_testsuite/tests/test_2/input\",\n",
    "            \"/Volumes/Data/GitHub/h1b_analysis/insight_testsuite/tests/test_3/input\",\n",
    "            \"/Volumes/Data/GitHub/h1b_analysis/insight_testsuite/tests/test_4/input\",\n",
    "            \"/Volumes/Data/GitHub/h1b_analysis/insight_testsuite/tests/test_5/input\"];\n",
    "files = [\"H1B_FY_2014.csv\",\"H1B_FY_2015.csv\",\"H1B_FY_2016.csv\",\"H1B_FY_2017.csv\"]\n",
    "out_fn = 'h1b_input.csv'\n",
    "num_cases = 10000\n",
    "def input_generator(path, out_path, fn, out_fn, num_cases):\n",
    "    cell_delimiter = ';'\n",
    "    file = open(os.path.join(path, fn))\n",
    "    tmp_res = [line[:-1] for line in file]\n",
    "    file.close()\n",
    "    headers = tmp_res[0].replace('\"', '').split(cell_delimiter)\n",
    "    tmp_res = tmp_res[1:]\n",
    "\n",
    "    rand_idx = np.random.randint(0, len(tmp_res),size = num_cases)\n",
    "\n",
    "    res = [tmp_res[tt].replace('\"', '').split(cell_delimiter) for tt in rand_idx]\n",
    "    res_succ = [x for x in res if len(x) == len(headers)]\n",
    "    # res_trouble = list(set(res[1:]).difference(set(res_succ)))\n",
    "    print(\"Filename: %s\\nNumber of all cases: %d\\nNumber of correct format cases: %d \\nNumber of problematic cases: %d\" %(fn, len(tmp_res), len(res_succ), len(tmp_res) - len(res_succ)))\n",
    "    ## write to csv\n",
    "    return txt_writer(res_succ, out_fn, out_path, headers)\n",
    "for op, fn in zip(out_path, files):\n",
    "    input_generator(path, op,fn, out_fn, num_cases)"
   ]
  },
  {
   "cell_type": "code",
   "execution_count": 21,
   "metadata": {},
   "outputs": [
    {
     "data": {
      "text/plain": [
       "True"
      ]
     },
     "execution_count": 21,
     "metadata": {},
     "output_type": "execute_result"
    }
   ],
   "source": []
  },
  {
   "cell_type": "code",
   "execution_count": null,
   "metadata": {},
   "outputs": [],
   "source": []
  }
 ],
 "metadata": {
  "kernelspec": {
   "display_name": "Python 3",
   "language": "python",
   "name": "python3"
  },
  "language_info": {
   "codemirror_mode": {
    "name": "ipython",
    "version": 3
   },
   "file_extension": ".py",
   "mimetype": "text/x-python",
   "name": "python",
   "nbconvert_exporter": "python",
   "pygments_lexer": "ipython3",
   "version": "3.6.5"
  }
 },
 "nbformat": 4,
 "nbformat_minor": 2
}
